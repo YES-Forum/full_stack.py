{
 "cells": [
  {
   "cell_type": "markdown",
   "metadata": {},
   "source": [
    "# Control Flow in Python\n",
    "\n",
    "**Objectives:**\n",
    "\n",
    "* Understand Control Flow Statements in Python\n",
    "* Understing of Loops\n",
    "* Control Flow changing Statements (Continue & Break)\n",
    "* Exception Handling\n",
    "* etc"
   ]
  },
  {
   "cell_type": "markdown",
   "metadata": {},
   "source": [
    "**What is Control FLow in Python**\n",
    "\n",
    "Control flow in Python refers to the order in which individual statements, instructions, or function calls are executed or evaluated. Python provides several control flow statements that allow you to control the execution of your code. These include conditional statements, loops, and control flow altering statements like break, continue, and pass. etc"
   ]
  },
  {
   "cell_type": "markdown",
   "metadata": {},
   "source": [
    "**1. Conditional Statements**\n",
    "\n",
    "Conditional statements allow you to execute certain blocks of code based on specific conditions."
   ]
  },
  {
   "cell_type": "code",
   "execution_count": null,
   "metadata": {},
   "outputs": [],
   "source": [
    "#if Statement : Executes a block of code if a condition is true.\n",
    "x = 10\n",
    "if x > 5:\n",
    "    print(\"x is greater than 5\")\n",
    "\n",
    "#If Else Statement: Executes one block of code if a condition is true, and another block if the condition is false.\n",
    "x = 10\n",
    "if x > 5:\n",
    "    print(\"x is greater than 5\")\n",
    "else:\n",
    "    print(\"x is not greater than 5\")\n",
    "\n",
    "#if elif else Statement: Executes different blocks of code for different conditions.\n",
    "x = 10\n",
    "if x > 10:\n",
    "    print(\"x is greater than 10\")\n",
    "elif x == 10:\n",
    "    print(\"x is equal to 10\")\n",
    "else:\n",
    "    print(\"x is less than 10\")\n",
    "\n"
   ]
  },
  {
   "cell_type": "markdown",
   "metadata": {},
   "source": [
    "**2. Loops**\n",
    "\n",
    "Loops allow you to repeatedly execute a block of code as long as a specified condition is met.\n",
    "\n",
    "Types of Loops:\n",
    "1. For Loop: Iterates over a sequence (e.g., list, tuple, dictionary, string, or range).\n",
    "2. while Loop: Repeats a block of code as long as a condition is true."
   ]
  },
  {
   "cell_type": "code",
   "execution_count": null,
   "metadata": {},
   "outputs": [],
   "source": [
    "#For Loops\n",
    "for i in range(5):\n",
    "    print(i)\n",
    "#Output: 0 1 2 3 4\n",
    "\n",
    "\n",
    "fruits = [\"apple\", \"banana\", \"cherry\"]\n",
    "for fruit in fruits:\n",
    "    print(fruit)\n",
    "\n",
    "#Output: apple banana cherry\n",
    "\n"
   ]
  },
  {
   "cell_type": "code",
   "execution_count": null,
   "metadata": {},
   "outputs": [],
   "source": [
    "#While Loops\n",
    "x = 0\n",
    "while x < 5:\n",
    "    print(x)\n",
    "    x += 1\n",
    "\n",
    "#2\n",
    "count = 0\n",
    "while count < 5:\n",
    "    print(\"Count is:\", count)\n",
    "    count += 1\n",
    "\n"
   ]
  },
  {
   "cell_type": "markdown",
   "metadata": {},
   "source": [
    "**3. Control Flow Changing Statements**\n",
    "\n",
    "These statements change the normal flow of control in loops.\n",
    "\n",
    "We have:\n",
    "* break Statement\n",
    "* continue Statement\n",
    "* pass Statement\n",
    "\n"
   ]
  },
  {
   "cell_type": "code",
   "execution_count": null,
   "metadata": {},
   "outputs": [],
   "source": [
    "#break Statemnt: The break statement is used to exit a loop when a condition becomes true.\n",
    "for i in range(5):\n",
    "    if i == 3:\n",
    "        break\n",
    "    print(i)\n",
    "# Output: 0 1 2\n",
    "\n",
    "#continue Statement: The continue statement is used to skip the rest of the code inside a loop for the current iteration only.\n",
    "for i in range(5):\n",
    "    if i == 3:\n",
    "        continue\n",
    "    print(i)\n",
    "# Output: 0 1 2 4\n",
    "\n",
    "#pass Statement: The pass statement is used as a placeholder for future code.\n",
    "\n",
    "for i in range(5):\n",
    "    if i == 3:\n",
    "        pass\n",
    "    print(i)\n",
    "# Output: 0 1 2 3 4"
   ]
  },
  {
   "cell_type": "markdown",
   "metadata": {},
   "source": [
    "**4. The Match Statement (Pattern Matching)**\n",
    "\n",
    "Introduced in Python 3.10, the match statement is similar to a switch-case construct in other languages. It is used for pattern matching.\n"
   ]
  },
  {
   "cell_type": "code",
   "execution_count": 8,
   "metadata": {},
   "outputs": [
    {
     "name": "stdout",
     "output_type": "stream",
     "text": [
      "Starting the system.\n"
     ]
    }
   ],
   "source": [
    "#match Statement: The match statement is used to compare a value against multiple possible options.\n",
    "command = \"start\"\n",
    "match command:\n",
    "    case \"start\":\n",
    "        print(\"Starting the system.\")\n",
    "    case \"stop\":\n",
    "        print(\"Stopping the system.\")\n",
    "    case _:\n",
    "        print(\"Unknown command.\")\n",
    "# Output: Starting the system."
   ]
  },
  {
   "cell_type": "markdown",
   "metadata": {},
   "source": [
    "**5. Functions**\n",
    "\n",
    "Functions allow you to encapsulate code into reusable blocks\n"
   ]
  },
  {
   "cell_type": "code",
   "execution_count": 10,
   "metadata": {},
   "outputs": [
    {
     "name": "stdout",
     "output_type": "stream",
     "text": [
      "Hello, Alice!\n",
      "Hello, Alice!\n",
      "No name provided.\n"
     ]
    }
   ],
   "source": [
    "#Function Definition: A function is a block of code that only runs when it is called.\n",
    "def greet(name):\n",
    "    return f\"Hello, {name}!\"\n",
    "\n",
    "#Function Call: To call a function, use the function name followed by parenthesis.\n",
    "print(greet(\"Alice\"))  # Output: Hello, Alice!\n",
    "\n",
    "\n",
    "#Function return \n",
    "def greet(name):\n",
    "    if not name:\n",
    "        return \"No name provided.\"\n",
    "    return f\"Hello, {name}!\"\n",
    "\n",
    "print(greet(\"Alice\"))  # Output: Hello, Alice!\n",
    "print(greet(\"\"))       # Output: No name provided.\n"
   ]
  },
  {
   "cell_type": "code",
   "execution_count": null,
   "metadata": {},
   "outputs": [
    {
     "name": "stdout",
     "output_type": "stream",
     "text": [
      "helloali\n",
      "hellofaiz\n",
      "hellokarim\n"
     ]
    }
   ],
   "source": [
    "students = ['ali', 'faiz', 'karim']\n",
    "def greet(name):\n",
    "    print('hello ' + name)\n",
    "\n",
    "\n",
    "for i in students:\n",
    "    greet(i)\n"
   ]
  },
  {
   "cell_type": "markdown",
   "metadata": {},
   "source": [
    "**6. Exception Handling**\n",
    "\n",
    "Exception handling allows you to handle errors gracefully.\n",
    "\n",
    "We have:\n",
    "* try-except block\n",
    "* try-except-else Block\n",
    "* try-except-finnally Block\n",
    "\n",
    "\n"
   ]
  },
  {
   "cell_type": "code",
   "execution_count": null,
   "metadata": {},
   "outputs": [],
   "source": [
    "# try except Statement: The try block lets you test a block of code for errors.\n",
    "try:\n",
    "    x = 1 / 0\n",
    "except ZeroDivisionError:\n",
    "    print(\"Cannot divide by zero\")\n",
    "\n",
    "#Output: Cannot divide by zero\n",
    "\n",
    "#try-except-else Statement: The else block will run if the try block does not raise an exception.\n",
    "try:\n",
    "    x = 1 / 1\n",
    "except ZeroDivisionError:\n",
    "    print(\"Cannot divide by zero\")\n",
    "else:\n",
    "    print(\"Division successful\")\n",
    "\n",
    "\n",
    "#Output: Division successful\n",
    "\n",
    "#try-except-finally Statement: The finally block lets you execute code, regardless of the result of the try- and except blocks.\n",
    "try:\n",
    "    x = 1 / 0\n",
    "except ZeroDivisionError:\n",
    "    print(\"Cannot divide by zero\")\n",
    "finally:\n",
    "    print(\"This will always execute\")\n",
    "\n",
    "#Output: Cannot divide by zero\n",
    "\n"
   ]
  },
  {
   "cell_type": "markdown",
   "metadata": {},
   "source": [
    "**7. Comprehesions with control Flow**\n",
    "\n",
    "Python comprehensions allow concise expressions for creating lists, sets, or dictionaries, with conditional logic.\n",
    "\n",
    "\n",
    "\n"
   ]
  },
  {
   "cell_type": "code",
   "execution_count": 11,
   "metadata": {},
   "outputs": [
    {
     "name": "stdout",
     "output_type": "stream",
     "text": [
      "[4, 16]\n",
      "{'apple': 5, 'banana': 6, 'cherry': 6}\n"
     ]
    }
   ],
   "source": [
    "#list Compreshension Example\n",
    "numbers = [1, 2, 3, 4, 5]\n",
    "squared_even_numbers = [x**2 for x in numbers if x % 2 == 0]\n",
    "print(squared_even_numbers)  # Output: [4, 16]\n",
    "\n",
    "\n",
    "#Dictionary Comprehension Example\n",
    "fruits = [\"apple\", \"banana\", \"cherry\"]\n",
    "lengths = {fruit: len(fruit) for fruit in fruits}\n",
    "print(lengths)  # Output: {'apple': 5, 'banana': 6, 'cherry': 6}\n",
    "\n"
   ]
  },
  {
   "cell_type": "markdown",
   "metadata": {},
   "source": [
    "**8. The with Statement**\n",
    "\n",
    "The with statement simplifies resource management by ensuring proper acquisition and release of resources."
   ]
  },
  {
   "cell_type": "code",
   "execution_count": 14,
   "metadata": {},
   "outputs": [
    {
     "name": "stdout",
     "output_type": "stream",
     "text": [
      "Hello, World!\n"
     ]
    }
   ],
   "source": [
    "#with statement Example\n",
    "with open(\"example.txt\", \"w\") as file:\n",
    "    content = file.write(\"Hello, World!\")\n",
    "\n",
    "# File automatically closes after the block ends.\n",
    "with open(\"example.txt\", \"r\") as file:\n",
    "    content = file.read()\n",
    "    print(content)  # Output: Hello, World!\n"
   ]
  }
 ],
 "metadata": {
  "kernelspec": {
   "display_name": "Python 3",
   "language": "python",
   "name": "python3"
  },
  "language_info": {
   "codemirror_mode": {
    "name": "ipython",
    "version": 3
   },
   "file_extension": ".py",
   "mimetype": "text/x-python",
   "name": "python",
   "nbconvert_exporter": "python",
   "pygments_lexer": "ipython3",
   "version": "3.13.2"
  }
 },
 "nbformat": 4,
 "nbformat_minor": 2
}
