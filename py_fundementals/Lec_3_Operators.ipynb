{
 "cells": [
  {
   "cell_type": "markdown",
   "metadata": {},
   "source": [
    "# Operators in Python\n",
    "\n",
    "**What are Operators?**\n",
    "\n",
    "Define operators as symbols or keywords that perform operations on operands (variables or values).\n",
    "Mention the importance of operators in Python programming.\n",
    "\n",
    "**Types of Operators**\n",
    "\n",
    "Brief overview of the categories:\n",
    "* Arithmetic\n",
    "* Comparison\n",
    "* Logical\n",
    "* Bitwise\n",
    "* Assignment\n",
    "* Identity\n",
    "* Membership\n",
    "* Ternary (Conditional Expression)"
   ]
  },
  {
   "cell_type": "markdown",
   "metadata": {},
   "source": [
    "**1. Arithmetic Operators:**\n",
    " Used to perform mathematical operations like addition, subtraction, multiplication, etc.\n",
    "\n",
    "|Operator|\tDescription|Example| Output|\n",
    "|--------|-------------|-------|-------|\n",
    "|+       |Addition\t   |5 + 3  |   8   |\n",
    "|-       |Subtraction  |5 - 3  |  2    |\n",
    "|*      |Multiplication|5 * 3  |   15  |\n",
    "|/\t|Division|\t5 / 2|\t2.5|\n",
    "|%\t|Modulus (Remainder)|\t5 % 2|\t1|\n",
    "|**\t|Exponentiation\t|5 ** 3|\t125|\n",
    "|//\t|Floor Division|\t5 // 2| 2|"
   ]
  },
  {
   "cell_type": "code",
   "execution_count": 1,
   "metadata": {},
   "outputs": [
    {
     "name": "stdout",
     "output_type": "stream",
     "text": [
      "5\n",
      "-1\n",
      "6\n",
      "0.6666666666666666\n",
      "0\n",
      "2\n",
      "8\n"
     ]
    }
   ],
   "source": [
    "# Arithmetic Operators\n",
    "\n",
    "# Addition\n",
    "print(2 + 3)\n",
    "\n",
    "# Subtraction\n",
    "print(2 - 3)\n",
    "\n",
    "# Multiplication\n",
    "print(2 * 3)\n",
    "\n",
    "# Division\n",
    "print(2 / 3)\n",
    "\n",
    "# Floor Division\n",
    "print(2 // 3)\n",
    "\n",
    "# Modulus\n",
    "print(2 % 3)\n",
    "\n",
    "# Exponentiation\n",
    "print(2 ** 3)"
   ]
  },
  {
   "cell_type": "markdown",
   "metadata": {},
   "source": [
    "**2. Comparision or Relational Operators**\n",
    "\n",
    "Used to compare two values. The result is always a boolean (True or False).\n",
    "\n",
    "|Operator\t|Description|\tExample\t|Output|\n",
    "|-----------|-----------|-----------|------|\n",
    "|==\t|Equal to|\t5 == 5|\tTrue|\n",
    "|!=\t|Not equal to|\t5 != 3|\tTrue|\n",
    "|>\t|Greater than|\t5 > 3|\tTrue|\n",
    "|<\t|Less than|\t5 < 3|\tFalse|\n",
    "|>=\t|Greater than or equal to|\t5 >= 5|\tTrue|\n",
    "|<=|\tLess than or equal to|\t5 <= 3\t|False|"
   ]
  },
  {
   "cell_type": "markdown",
   "metadata": {},
   "source": [
    "**3. Logical Operators:**\n",
    "\n",
    "Used to combine conditional statements.\n",
    "\n",
    "|Operator\t|Description\t|Example|\tOutput|\n",
    "|-----------|---------------|-------|---------|\n",
    "|and\t|Returns True if both are True|\tTrue and False|\tFalse|\n",
    "|or\t|Returns True if one is True|\tTrue or False|\tTrue|\n",
    "|not|\tReverses the boolean result\t|not True|\tFalse|"
   ]
  },
  {
   "cell_type": "code",
   "execution_count": null,
   "metadata": {
    "vscode": {
     "languageId": "yaml"
    }
   },
   "outputs": [],
   "source": [
    "# Logical Operators\n",
    "\n",
    "# and operator\n",
    "print(True and True)   # Output: True\n",
    "print(True and False)  # Output: False\n",
    "print(False and False) # Output: False\n",
    "\n",
    "# or operator\n",
    "print(True or True)    # Output: True\n",
    "print(True or False)   # Output: True\n",
    "print(False or False)  # Output: False\n",
    "\n",
    "# not operator\n",
    "print(not True)        # Output: False\n",
    "print(not False)       # Output: True"
   ]
  },
  {
   "cell_type": "markdown",
   "metadata": {},
   "source": [
    "**4. Bitwise Operators**\n",
    "\n",
    "Operate on binary representations of numbers.\n",
    "\n",
    "|Operator|\tDescription\t|Example|\tOutput|\n",
    "|--------|--------------|-------|---------|\n",
    "|&\t|Bitwise AND|\t5 & 3|\t1|\n",
    "|`\t|`\tBitwise OR|\t`5|\n",
    "|^\t|Bitwise XOR|\t5 ^ 3|\t6|\n",
    "|~\t|Bitwise NOT|\t~5\t|-6|\n",
    "|<<\t|Left shift|\t5 << 1\t|10|\n",
    "|>>\t|Right shift|\t5 >> 1|\t2|\n"
   ]
  },
  {
   "cell_type": "code",
   "execution_count": 2,
   "metadata": {
    "vscode": {
     "languageId": "perl"
    }
   },
   "outputs": [
    {
     "name": "stdout",
     "output_type": "stream",
     "text": [
      "1\n",
      "7\n",
      "6\n",
      "-6\n",
      "10\n",
      "2\n",
      "6 is even\n",
      "Setting bit 1 in 5 gives 7\n",
      "Toggling bit 1 in 5 gives 7\n",
      "Inverting all bits in 5 gives -6\n",
      "Left shifting 5 by 1 gives 10\n",
      "Right shifting 5 by 1 gives 2\n"
     ]
    }
   ],
   "source": [
    "# Bitwise Operators\n",
    "\n",
    "# Bitwise AND\n",
    "print(5 & 3)  # Output: 1 (binary: 0101 & 0011 = 0001)\n",
    "\n",
    "# Bitwise OR\n",
    "print(5 | 3)  # Output: 7 (binary: 0101 | 0011 = 0111)\n",
    "\n",
    "# Bitwise XOR\n",
    "print(5 ^ 3)  # Output: 6 (binary: 0101 ^ 0011 = 0110)\n",
    "\n",
    "# Bitwise NOT\n",
    "print(~5)     # Output: -6 (binary: ~0101 = 1010, which is -6 in two's complement)\n",
    "\n",
    "# Left shift\n",
    "print(5 << 1) # Output: 10 (binary: 0101 << 1 = 1010)\n",
    "\n",
    "# Right shift\n",
    "print(5 >> 1) # Output: 2 (binary: 0101 >> 1 = 0010)\n",
    "\n",
    "# Examples of usage:\n",
    "# Bitwise AND can be used to check if a number is even or odd\n",
    "number = 6\n",
    "if number & 1 == 0:\n",
    "    print(f\"{number} is even\")\n",
    "else:\n",
    "    print(f\"{number} is odd\")\n",
    "\n",
    "# Bitwise OR can be used to set a particular bit\n",
    "number = 5  # binary: 0101\n",
    "bit_to_set = 1 << 1  # binary: 0010\n",
    "new_number = number | bit_to_set  # binary: 0111\n",
    "print(f\"Setting bit 1 in {number} gives {new_number}\")\n",
    "\n",
    "# Bitwise XOR can be used to toggle a particular bit\n",
    "number = 5  # binary: 0101\n",
    "bit_to_toggle = 1 << 1  # binary: 0010\n",
    "new_number = number ^ bit_to_toggle  # binary: 0111\n",
    "print(f\"Toggling bit 1 in {number} gives {new_number}\")\n",
    "\n",
    "# Bitwise NOT can be used to invert all bits\n",
    "number = 5  # binary: 0101\n",
    "inverted_number = ~number  # binary: 1010\n",
    "print(f\"Inverting all bits in {number} gives {inverted_number}\")\n",
    "\n",
    "# Left shift can be used to multiply a number by 2\n",
    "number = 5  # binary: 0101\n",
    "shifted_number = number << 1  # binary: 1010\n",
    "print(f\"Left shifting {number} by 1 gives {shifted_number}\")\n",
    "\n",
    "# Right shift can be used to divide a number by 2\n",
    "number = 5  # binary: 0101\n",
    "shifted_number = number >> 1  # binary: 0010\n",
    "print(f\"Right shifting {number} by 1 gives {shifted_number}\")"
   ]
  },
  {
   "cell_type": "markdown",
   "metadata": {},
   "source": [
    "**5. Assignment Operators:**\n",
    "\n",
    "Used to assign values to variables.\n",
    "\n",
    "|Operator\t|Description|\tExample|\tEquivalent To|\n",
    "|-----------|-----------|----------|-----------------|\n",
    "|=\t|Assign\t|a = 5\t|\n",
    "|+=\t|Add and assign\t|a += 3\t|a = a + 3|\n",
    "|-=\t|Subtract and assign|\ta -= 3|\ta = a - 3|\n",
    "|*=\t|Multiply and assign|\ta *= 3|\ta = a * 3|\n",
    "|/=|\tDivide and assign|\ta /= 3|\ta = a / 3|\n",
    "|%=\t|Modulus and assign|\ta %= 3\t|a = a % 3|\n",
    "|//=|\tFloor divide and assign\t|a //= 3|\ta = a // 3|\n",
    "|**=|\tExponent and assign\t|a **= 3|\ta = a ** 3|\n",
    "|&=\t|Bitwise AND and assign|\ta &= 3|\ta = a & 3|\n",
    "|`\t|=`\t|Bitwise OR and assign|\t`a|\n",
    "|^=|\tBitwise XOR and assign|\ta ^= 3|\ta = a ^ 3|\n",
    "|<<=|\tLeft shift and assign|\ta <<= 3\t|a = a << 3|\n",
    "|>>=|\tRight shift and assign|\ta >>= 3\t|a = a >> 3|"
   ]
  },
  {
   "cell_type": "code",
   "execution_count": 6,
   "metadata": {},
   "outputs": [
    {
     "name": "stdout",
     "output_type": "stream",
     "text": [
      "a = 5\n",
      "a += 1 -> 6\n",
      "a -= 2 -> 4\n",
      "a *= 2 -> 8\n",
      "a /= 2 -> 4.0\n",
      "a %= 3 -> 1.0\n",
      "a //= 2 -> 0.0\n",
      "a **= 2 -> 0.0\n",
      "a &= 1 -> 0\n",
      "a |= 2 -> 2\n",
      "a ^= 2 -> 0\n",
      "a <<= 1 -> 0\n",
      "a >>= 1 -> 0\n"
     ]
    }
   ],
   "source": [
    "# Assignment Operators\n",
    "\n",
    "# Assign\n",
    "a = number\n",
    "print(f\"a = {a}\")\n",
    "\n",
    "# Add and assign\n",
    "a += bit_to_set\n",
    "print(f\"a += {bit_to_set} -> {a}\")\n",
    "\n",
    "# Subtract and assign\n",
    "a -= bit_to_toggle\n",
    "print(f\"a -= {bit_to_toggle} -> {a}\")\n",
    "\n",
    "# Multiply and assign\n",
    "a *= 2\n",
    "print(f\"a *= 2 -> {a}\")\n",
    "\n",
    "# Divide and assign\n",
    "a /= 2\n",
    "print(f\"a /= 2 -> {a}\")\n",
    "\n",
    "# Modulus and assign\n",
    "a %= 3\n",
    "print(f\"a %= 3 -> {a}\")\n",
    "\n",
    "# Floor divide and assign\n",
    "a //= 2\n",
    "print(f\"a //= 2 -> {a}\")\n",
    "\n",
    "# Exponent and assign\n",
    "a **= 2\n",
    "print(f\"a **= 2 -> {a}\")\n",
    "\n",
    "# Bitwise AND and assign\n",
    "bit_to_set = 1\n",
    "a = int(a)\n",
    "a &= bit_to_set\n",
    "print(f\"a &= {bit_to_set} -> {a}\")\n",
    "\n",
    "# Bitwise OR and assign\n",
    "bit_to_toggle = 0b00000010\n",
    "a |= bit_to_toggle\n",
    "print(f\"a |= {bit_to_toggle} -> {a}\")\n",
    "\n",
    "# Bitwise XOR and assign\n",
    "a ^= bit_to_toggle\n",
    "print(f\"a ^= {bit_to_toggle} -> {a}\")\n",
    "\n",
    "# Left shift and assign\n",
    "a <<= 1\n",
    "print(f\"a <<= 1 -> {a}\")\n",
    "\n",
    "# Right shift and assign\n",
    "a >>= 1\n",
    "print(f\"a >>= 1 -> {a}\")"
   ]
  },
  {
   "cell_type": "markdown",
   "metadata": {},
   "source": [
    "**6. Identity Operators**\n",
    "\n",
    "Used to compare the memory locations of two objects.\n",
    "\n",
    "|Operator\t|Description\t|Example\t|Output|\n",
    "|-----------|---------------|-----------|------|\n",
    "|is\t|Returns True if objects are identical (same memory)|\ta is b\t|True|\n",
    "|is not|\tReturns True if objects are not identical|\ta is not b|\tFalse|"
   ]
  },
  {
   "cell_type": "code",
   "execution_count": 8,
   "metadata": {},
   "outputs": [
    {
     "name": "stdout",
     "output_type": "stream",
     "text": [
      "True\n",
      "False\n",
      "True\n"
     ]
    }
   ],
   "source": [
    "a = [1, 2, 3]\n",
    "b = a\n",
    "c = [1, 2, 3]\n",
    "print(a is b)  # True (same memory)\n",
    "print(a is c)  # False (different memory)\n",
    "print(a is not c)  # True (different memory)\n"
   ]
  },
  {
   "cell_type": "markdown",
   "metadata": {},
   "source": [
    "**7. Membership Operators**\n",
    "\n",
    "Used to test whether a value exists in a sequence (like a list, string, or tuple).\n",
    "\n",
    "|Operator| Description\t|Example\t|Output|\n",
    "|--------|--------------|-----------|------|\n",
    "|in\t|Returns True if value is in the sequence|\t3 in [1, 2, 3]|\tTrue|\n",
    "|not in|\tReturns True if value is not in the sequence|\t4 not in [1, 2, 3]|\tTrue|\n"
   ]
  },
  {
   "cell_type": "code",
   "execution_count": null,
   "metadata": {},
   "outputs": [],
   "source": [
    "# Membership Operators\n",
    "a = [1, 2, 3]\n",
    "# Check if a value is in a list\n",
    "\n",
    "print(3 in a)  # Output: True\n",
    "print(4 in a)  # Output: False\n",
    "\n",
    "# Check if a value is not in a list\n",
    "print(4 not in a)  # Output: True\n",
    "print(3 not in a)  # Output: False\n",
    "\n",
    "# Check if a value is in a string\n",
    "string = \"Hello, world!\"\n",
    "print('H' in string)  # Output: True\n",
    "print('h' in string)  # Output: False\n",
    "\n",
    "# Check if a value is not in a string\n",
    "print('h' not in string)  # Output: True\n",
    "print('H' not in string)  # Output: False\n",
    "\n",
    "# Check if a value is in a tuple\n",
    "tuple_data = (1, 2, 3)\n",
    "print(2 in tuple_data)  # Output: True\n",
    "print(4 in tuple_data)  # Output: False\n",
    "\n",
    "# Check if a value is not in a tuple\n",
    "print(4 not in tuple_data)  # Output: True\n",
    "print(2 not in tuple_data)  # Output: False"
   ]
  },
  {
   "cell_type": "markdown",
   "metadata": {},
   "source": [
    "**8. Ternary Operators**\n",
    "\n",
    "A shorthand for conditional expressions."
   ]
  },
  {
   "cell_type": "code",
   "execution_count": 11,
   "metadata": {},
   "outputs": [
    {
     "name": "stdout",
     "output_type": "stream",
     "text": [
      "Adult\n"
     ]
    }
   ],
   "source": [
    "#Syntax: value_if_true if condition else value_if_false\n",
    "\n",
    "# Example \n",
    "age = 20\n",
    "status = \"Adult\" if age >= 18 else \"Minor\"\n",
    "print(status)  # Output: Adult\n",
    "\n"
   ]
  },
  {
   "cell_type": "markdown",
   "metadata": {},
   "source": [
    "**9. Operator Precedence**\n",
    "\n",
    "Operator precedence determines the order in which operators are evaluated.\n",
    "\n",
    "*Precedence Table (Highest to Lowest):*\n",
    "\n",
    "1. **\n",
    "2. ~, +, - (Unary operators)\n",
    "3. *, /, %, //\n",
    "4. +, -\n",
    "5. >>, <<\n",
    "6. &\n",
    "7. ^\n",
    "8. |\n",
    "9. ==, !=, >, <, >=, <=, is, is not, in, not in\n",
    "10. not\n",
    "11. and\n",
    "12. or"
   ]
  }
 ],
 "metadata": {
  "kernelspec": {
   "display_name": "Python 3",
   "language": "python",
   "name": "python3"
  },
  "language_info": {
   "codemirror_mode": {
    "name": "ipython",
    "version": 3
   },
   "file_extension": ".py",
   "mimetype": "text/x-python",
   "name": "python",
   "nbconvert_exporter": "python",
   "pygments_lexer": "ipython3",
   "version": "3.11.9"
  }
 },
 "nbformat": 4,
 "nbformat_minor": 2
}
