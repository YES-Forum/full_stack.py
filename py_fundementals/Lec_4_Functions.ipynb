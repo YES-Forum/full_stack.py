{
 "cells": [
  {
   "cell_type": "markdown",
   "metadata": {},
   "source": [
    "# Functions in Python\n",
    "\n",
    "A function is a block of organized, reusable code used to perform a single, related action. Functions help:\n",
    "\n",
    "* Avoid redundancy by reusing code.\n",
    "* Improve modularity by breaking down complex problems into smaller, manageable parts.\n",
    "* Increase readability and maintainability.\n",
    "\n",
    "**Syntax:**"
   ]
  },
  {
   "cell_type": "code",
   "execution_count": null,
   "metadata": {},
   "outputs": [
    {
     "name": "stdout",
     "output_type": "stream",
     "text": [
      "Hello, Alice!\n"
     ]
    }
   ],
   "source": [
    "# def function_name(parameters):\n",
    "#     \"\"\"\n",
    "#     Optional docstring: A description of the function.\n",
    "#     \"\"\"\n",
    "#     # Function body\n",
    "#     return value  # Optional\n",
    "\n",
    "# #Example\n",
    "# def greet(name):\n",
    "#     \"\"\"\n",
    "#     This function greets a person with their name.\n",
    "#     \"\"\"\n",
    "#     print(f\"Hello, {name}!\")\n",
    "\n",
    "# greet(\"Alice\")  # Output: Hello, Alice!\n",
    "\n",
    "\n",
    "def greet(name):\n",
    "    print(f'Hello, {name}')\n",
    "\n",
    "students = ['Ali', 'Sara', 'Khan']\n",
    "for i in students:\n",
    "    greet(i)\n"
   ]
  },
  {
   "cell_type": "markdown",
   "metadata": {},
   "source": [
    "# Types of Functions in Python\n",
    "\n",
    "**1. Built-in Functions**\n",
    "\n",
    "These are pre-defined functions provided by Python, such as print(), len(), sum(), etc."
   ]
  },
  {
   "cell_type": "code",
   "execution_count": null,
   "metadata": {},
   "outputs": [],
   "source": [
    "#Basic Funtion\n",
    "print(abs(-5)) #output : 5\n",
    "\n",
    "#all (iterable): Return True if all elements of the iterable are true (or if the iterable is empty).\n",
    "print(all([True, True, False]))  # Output: False\n",
    "\n",
    "#any (iterable): Return True if any element of the iterable is true. If the iterable is empty, return False.\n",
    "print(any([True, False, False]))  # Output: True\n",
    "\n",
    "#ascii (object): Return a string containing a printable representation of an object.\n",
    "print(ascii('Hello, world!'))  # Output: 'Hello, world!'\n",
    "\n",
    "#bin (number): Convert an integer number to a binary string prefixed with “0b”.\n",
    "print(bin(10))  # Output: '0b1010'\n",
    "\n",
    "#bool (object): Convert a value to a Boolean.\n",
    "print(bool(1))  # Output: True\n",
    "\n",
    "#bytearray (source, encoding, errors): Return a new array of bytes.\n",
    "print(bytearray('hello', 'utf-8'))  # Output: bytearray(b'hello')\n",
    "\n",
    "#bytes (source, encoding, errors): Return a new “bytes” object.\n",
    "print(bytes('hello', 'utf-8'))  # Output: b'hello'\n",
    "\n",
    "#callable (object): Return True if the object appears callable.\n",
    "print(callable(print))  # Output: True\n",
    "\n",
    "#chr (i): Return a Unicode string of one character with ordinal i.\n",
    "print(chr(97))  # Output: 'a'\n",
    "\n",
    "#classmethod (function): Return a class method for a function.\n",
    "class MyClass:\n",
    "    @classmethod\n",
    "    def my_classmethod(cls):\n",
    "        print(\"This is a class method.\")\n",
    "\n",
    "\n",
    "#compile (source, filename, mode, flags=0, dont_inherit=False, optimize=-1): Compile the source into a code or AST object.\n",
    "\n",
    "\n",
    "\n"
   ]
  },
  {
   "cell_type": "markdown",
   "metadata": {},
   "source": [
    "# User Defined Function\n",
    "\n",
    "User-defined functions in Python are functions that you create to perform specific tasks. They allow you to encapsulate code into reusable blocks, making your code more modular and easier to maintain. Here is a detailed overview of user-defined functions in Python, including their creation, usage, and various features.\n",
    "\n",
    "1. Defining a Function\n",
    "A function is defined using the def keyword, followed by the function name, parentheses (), and a colon :. The function body is indented and contains the code to be executed when the function is called.\n",
    "\n"
   ]
  },
  {
   "cell_type": "code",
   "execution_count": 5,
   "metadata": {},
   "outputs": [
    {
     "name": "stdout",
     "output_type": "stream",
     "text": [
      "Hello, World!\n",
      "Hi, John!\n",
      "16\n"
     ]
    }
   ],
   "source": [
    "#1. Function with no arguments\n",
    "def say_hello():\n",
    "    print(\"Hello, World!\")\n",
    "\n",
    "say_hello()  # Output: Hello, World!\n",
    "\n",
    "\n",
    "\n",
    "#2. Function with arguments\n",
    "def greet_person(name):\n",
    "    print(f\"Hi, {name}!\")\n",
    "\n",
    "greet_person(\"John\")  # Output: Hi, John!\n",
    "\n",
    "\n",
    "\n",
    "#3. Function with default arguments\n",
    "def greet_person(name=\"Alice\"):\n",
    "    print(f\"Hi, {name}!\")\n",
    "\n",
    "#4. Function with return value\n",
    "def square(number):\n",
    "    return number ** 2\n",
    "\n",
    "result = square(4)\n",
    "print(result)  # Output: 16\n",
    "\n",
    "\n",
    "#5. Recursive function\n",
    "def factorial(n):\n",
    "    return 1 if n == 0 else n * factorial(n - 1)\n",
    "\n",
    "result = factorial(5)\n",
    "\n"
   ]
  },
  {
   "cell_type": "markdown",
   "metadata": {},
   "source": [
    "# Advanced Functions\n",
    "\n"
   ]
  },
  {
   "cell_type": "markdown",
   "metadata": {},
   "source": [
    "**1. Lambda Functions (Anonymous Functions)**\n",
    "\n",
    "Lambda functions are small, anonymous functions that can have any number of arguments but only one expression."
   ]
  },
  {
   "cell_type": "code",
   "execution_count": 7,
   "metadata": {},
   "outputs": [
    {
     "name": "stdout",
     "output_type": "stream",
     "text": [
      "25\n",
      "[(1, 'apple'), (3, 'banana'), (2, 'cherry')]\n"
     ]
    }
   ],
   "source": [
    "#Syntax\n",
    "lambda arguments: expression\n",
    "\n",
    "#Example\n",
    "square = lambda x: x ** 2\n",
    "print(square(5))  # Output: 25\n",
    "\n",
    "\n",
    "#Use Case in Sorting\n",
    "numbers = [(1, 'apple'), (3, 'banana'), (2, 'cherry')]\n",
    "numbers.sort(key=lambda x: x[1])\n",
    "print(numbers)  # Output: [(1, 'apple'), (3, 'banana'), (2, 'cherry')]\n",
    "numbers.sort(key=lambda x: x[0])\n",
    "\n"
   ]
  },
  {
   "cell_type": "markdown",
   "metadata": {},
   "source": [
    "**2. Higher Order FUnctions**\n",
    "\n",
    "A function that takes another function as an argument or returns one.\n",
    "Common higher-order functions include map(), filter(), and reduce()."
   ]
  },
  {
   "cell_type": "code",
   "execution_count": 8,
   "metadata": {},
   "outputs": [
    {
     "name": "stdout",
     "output_type": "stream",
     "text": [
      "[1, 4, 9, 16]\n",
      "[2, 4]\n"
     ]
    }
   ],
   "source": [
    "#Example of Map()\n",
    "numbers = [1, 2, 3, 4]\n",
    "squared = list(map(lambda x: x ** 2, numbers))\n",
    "print(squared)  # Output: [1, 4, 9, 16]\n",
    "\n",
    "\n",
    "#Example of Filter()\n",
    "numbers = [1, 2, 3, 4]\n",
    "even = list(filter(lambda x: x % 2 == 0, numbers))\n",
    "print(even)  # Output: [2, 4]"
   ]
  },
  {
   "cell_type": "markdown",
   "metadata": {},
   "source": [
    "**3. Decorators**\n",
    "\n",
    "Functions that modify the behavior of another function.\n",
    "\n"
   ]
  },
  {
   "cell_type": "code",
   "execution_count": 9,
   "metadata": {},
   "outputs": [
    {
     "name": "stdout",
     "output_type": "stream",
     "text": [
      "Before the function call\n",
      "Hello!\n",
      "After the function call\n"
     ]
    }
   ],
   "source": [
    "def decorator(func):\n",
    "    def wrapper():\n",
    "        print(\"Before the function call\")\n",
    "        func()\n",
    "        print(\"After the function call\")\n",
    "    return wrapper\n",
    "\n",
    "@decorator\n",
    "def say_hello():\n",
    "    print(\"Hello!\")\n",
    "\n",
    "say_hello()\n",
    "# Output:\n",
    "# Before the function call\n",
    "# Hello!\n",
    "# After the function call\n"
   ]
  }
 ],
 "metadata": {
  "kernelspec": {
   "display_name": "Python 3",
   "language": "python",
   "name": "python3"
  },
  "language_info": {
   "codemirror_mode": {
    "name": "ipython",
    "version": 3
   },
   "file_extension": ".py",
   "mimetype": "text/x-python",
   "name": "python",
   "nbconvert_exporter": "python",
   "pygments_lexer": "ipython3",
   "version": "3.13.2"
  }
 },
 "nbformat": 4,
 "nbformat_minor": 2
}
